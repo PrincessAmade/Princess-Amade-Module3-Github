{
 "cells": [
  {
   "cell_type": "code",
   "execution_count": 1,
   "id": "cd4d40bf-5f32-4436-9ebf-c62b749e98a4",
   "metadata": {},
   "outputs": [
    {
     "name": "stdout",
     "output_type": "stream",
     "text": [
      "Welcome to the vehicle info system!\n"
     ]
    },
    {
     "name": "stdin",
     "output_type": "stream",
     "text": [
      "Enter the year of the car:  1997\n",
      "Enter the make of the car:  ford\n",
      "Enter the model of the car:  lambo\n",
      "Enter the number of doors (2 or 4):  4\n",
      "Enter the type of roof (solid or sun roof):  solid\n"
     ]
    },
    {
     "name": "stdout",
     "output_type": "stream",
     "text": [
      "Vehicle type: car\n",
      "Year: 1997\n",
      "Make: ford\n",
      "Model: lambo\n",
      "Number of doors: 4\n",
      "Type of roof: solid\n"
     ]
    }
   ],
   "source": [
    "\n",
    "print(\"Welcome to the vehicle info system!\")\n",
    "year = input(\"Enter the year of the car: \")\n",
    "make = input(\"Enter the make of the car: \")\n",
    "model = input(\"Enter the model of the car: \")\n",
    "\n",
    "while True:\n",
    "    try:\n",
    "        doors = int(input(\"Enter the number of doors (2 or 4): \"))\n",
    "        if doors in [2, 4]:\n",
    "            break\n",
    "        else:\n",
    "            print(\"Please enter 2 or 4 for the number of doors.\")\n",
    "    except ValueError:\n",
    "        print(\"Invalid input. Please enter a number (2 or 4).\")\n",
    "\n",
    "while True:\n",
    "    roof_type = input(\"Enter the type of roof (solid or sun roof): \").lower()\n",
    "    if roof_type in [\"solid\", \"sun roof\"]:\n",
    "        break\n",
    "    else:\n",
    "        print(\"Please enter either 'solid' or 'sun roof' for the roof type.\")\n",
    "\n",
    "class Vehicle:\n",
    "    def __init__(self, vehicle_type):\n",
    "        self.vehicle_type = vehicle_type\n",
    "\n",
    "class Automobile(Vehicle):\n",
    "    def __init__(self, year, make, model, doors, roof_type):\n",
    "        # Initialize the parent class with vehicle_type as 'car'\n",
    "        super().__init__(\"car\")\n",
    "        self.year = year\n",
    "        self.make = make\n",
    "        self.model = model\n",
    "        self.doors = doors\n",
    "        self.roof_type = roof_type\n",
    "\n",
    "    def display_info(self):\n",
    "        # Display the car details in a readable format without f-strings\n",
    "        print(\"Vehicle type: \",self.vehicle_type)\n",
    "        print(\"Year: \", self.year)\n",
    "        print(\"Make: \", self.make)\n",
    "        print(\"Model: \", self.model)\n",
    "        print(\"Number of doors: \", str(self.doors))\n",
    "        print(\"Type of roof: \", self.roof_type)\n",
    "\n",
    "car = Automobile(year, make, model, doors, roof_type)\n",
    "\n",
    "car.display_info()\n"
   ]
  }
 ],
 "metadata": {
  "kernelspec": {
   "display_name": "Python 3 (ipykernel)",
   "language": "python",
   "name": "python3"
  },
  "language_info": {
   "codemirror_mode": {
    "name": "ipython",
    "version": 3
   },
   "file_extension": ".py",
   "mimetype": "text/x-python",
   "name": "python",
   "nbconvert_exporter": "python",
   "pygments_lexer": "ipython3",
   "version": "3.12.7"
  }
 },
 "nbformat": 4,
 "nbformat_minor": 5
}
